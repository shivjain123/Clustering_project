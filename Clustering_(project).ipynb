{
  "nbformat": 4,
  "nbformat_minor": 0,
  "metadata": {
    "colab": {
      "name": "Clustering (project).ipynb",
      "provenance": [],
      "authorship_tag": "ABX9TyNirzmAy1C970oaYbQqcPFz",
      "include_colab_link": true
    },
    "kernelspec": {
      "name": "python3",
      "display_name": "Python 3"
    },
    "language_info": {
      "name": "python"
    }
  },
  "cells": [
    {
      "cell_type": "markdown",
      "metadata": {
        "id": "view-in-github",
        "colab_type": "text"
      },
      "source": [
        "<a href=\"https://colab.research.google.com/github/shivjain123/Clustering_project/blob/master/Clustering_(project).ipynb\" target=\"_parent\"><img src=\"https://colab.research.google.com/assets/colab-badge.svg\" alt=\"Open In Colab\"/></a>"
      ]
    },
    {
      "cell_type": "code",
      "metadata": {
        "id": "PI9xAF3lAMXg"
      },
      "source": [
        "import pandas as p\n",
        "import plotly.express as px\n",
        "\n",
        "df = p.read_csv(\"https://raw.githubusercontent.com/whitehatjr/datasets/master/C118/stars.csv\")\n",
        "\n",
        "df.head()\n",
        "\n",
        "figure = px.scatter(df, x = \"Size\", y = \"Light\")\n",
        "\n",
        "figure.show()"
      ],
      "execution_count": null,
      "outputs": []
    },
    {
      "cell_type": "code",
      "metadata": {
        "id": "LFb8wrPNAoAn"
      },
      "source": [
        "from sklearn.cluster import KMeans as km\n",
        "\n",
        "X = df.iloc[:,[0,1]].values\n",
        "\n",
        "wcss = list()\n",
        "for i in range(1, 11):\n",
        "    k_means = km(n_clusters = i, init = 'k-means++', random_state = 42)\n",
        "    k_means.fit(X)\n",
        "    wcss.append(k_means.inertia_)"
      ],
      "execution_count": 3,
      "outputs": []
    },
    {
      "cell_type": "code",
      "metadata": {
        "id": "4V6DEv6gAt5o"
      },
      "source": [
        "import matplotlib.pyplot as plt\n",
        "import seaborn as s\n",
        "\n",
        "plt.figure(figsize = (10, 5))\n",
        "s.lineplot(range(1, 11), wcss, marker = 'o', color = 'blue')\n",
        "plt.title(\"Elbow Method\")\n",
        "plt.xlabel(\"Clusters\")\n",
        "plt.ylabel(\"WCSS\")"
      ],
      "execution_count": null,
      "outputs": []
    },
    {
      "cell_type": "code",
      "metadata": {
        "id": "g9hXGU3RA5h8"
      },
      "source": [
        "k_means = km(n_clusters = 3, init = 'k-means++', random_state = 14)\n",
        "y_kmeans = k_means.fit_predict(X)\n",
        "\n",
        "plt.figure(figsize = (15, 7))\n",
        "s.scatterplot(X[y_kmeans == 0, 0], X[y_kmeans == 0, 1], color = 'orange', label = \"Cluster 1\")\n",
        "s.scatterplot(X[y_kmeans == 1, 0], X[y_kmeans == 1, 1], color = 'green', label = \"Cluster 2\")\n",
        "s.scatterplot(X[y_kmeans == 2, 0], X[y_kmeans == 2, 1], color = 'blue', label = \"Cluster 1\")\n",
        "s.scatterplot(k_means.cluster_centers_[:, 0], k_means.cluster_centers_[:, 1], color = 'red', label = \"Centroids\", s = 100, marker = ',')\n",
        "plt.title(\"Cluster of Stars\")\n",
        "plt.xlabel(\"Clusters\")\n",
        "plt.ylabel(\"WCSS\")"
      ],
      "execution_count": null,
      "outputs": []
    }
  ]
}